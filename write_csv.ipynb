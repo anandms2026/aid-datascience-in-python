{
 "cells": [
  {
   "cell_type": "code",
   "execution_count": 27,
   "id": "9433d052-2feb-4e3a-9312-fbb378ead285",
   "metadata": {
    "scrolled": true
   },
   "outputs": [
    {
     "name": "stdout",
     "output_type": "stream",
     "text": [
      "[{'Name': 'Alice Johnson', 'Email': 'alice.johnson@example.com', 'Age': '28', 'Country': 'USA'}, {'Name': 'Bob Smith', 'Email': 'b.smith@example.net', 'Age': '35', 'Country': 'Canada'}, {'Name': 'Carol Lee', 'Email': 'carol.lee@example.org', 'Age': '42', 'Country': 'UK'}]\n",
      "<class 'list'>\n",
      "{'Name': 'Alice Johnson', 'Email': 'alice.johnson@example.com', 'Age': '28', 'Country': 'USA'}\n",
      "{'Name': 'Bob Smith', 'Email': 'b.smith@example.net', 'Age': '35', 'Country': 'Canada'}\n",
      "{'Name': 'Carol Lee', 'Email': 'carol.lee@example.org', 'Age': '42', 'Country': 'UK'}\n",
      "dict_keys(['Name', 'Email', 'Age', 'Country'])\n"
     ]
    }
   ],
   "source": [
    "#Read and Write the CSV file```\n",
    "import csv\n",
    "%precision 2\n",
    "try:\n",
    "    with open('sample.csv') as csvfile:\n",
    "        reader=csv.DictReader(csvfile)\n",
    "        data=list(reader)\n",
    "        print(data)\n",
    "        print(type(data))\n",
    "        for values in data:\n",
    "            print(values)\n",
    "        print(data[0].keys())\n",
    "except FileNotFoundError:\n",
    "    print('Check the files needs to viewed')"
   ]
  },
  {
   "cell_type": "code",
   "execution_count": null,
   "id": "3c02449c-ec1a-4b0c-afc0-e92a56e2d6fb",
   "metadata": {},
   "outputs": [],
   "source": []
  },
  {
   "cell_type": "code",
   "execution_count": null,
   "id": "ce81f8be-6a15-4dc8-8265-f1778efa83db",
   "metadata": {},
   "outputs": [],
   "source": []
  },
  {
   "cell_type": "code",
   "execution_count": null,
   "id": "60b35656-4003-48f4-a8b0-af4061a991d9",
   "metadata": {},
   "outputs": [],
   "source": []
  }
 ],
 "metadata": {
  "kernelspec": {
   "display_name": "Python 3 (ipykernel)",
   "language": "python",
   "name": "python3"
  },
  "language_info": {
   "codemirror_mode": {
    "name": "ipython",
    "version": 3
   },
   "file_extension": ".py",
   "mimetype": "text/x-python",
   "name": "python",
   "nbconvert_exporter": "python",
   "pygments_lexer": "ipython3",
   "version": "3.13.3"
  }
 },
 "nbformat": 4,
 "nbformat_minor": 5
}
