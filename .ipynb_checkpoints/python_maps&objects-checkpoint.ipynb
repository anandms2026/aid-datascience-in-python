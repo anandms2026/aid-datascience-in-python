{
 "cells": [
  {
   "cell_type": "code",
   "execution_count": 3,
   "id": "2c966fa9-91a8-4b24-9abf-109280c15afb",
   "metadata": {},
   "outputs": [
    {
     "name": "stdout",
     "output_type": "stream",
     "text": [
      "John Doe Live in NYC and work in AID department\n"
     ]
    }
   ],
   "source": [
    "#Python Maps and Objects\n",
    "class Employee:\n",
    "    dept='AID'\n",
    "    def set_name(self,new_name):\n",
    "        self.name=new_name\n",
    "    def set_location(self,new_location):\n",
    "        self.location=new_location\n",
    "emp=Employee()\n",
    "emp.set_name('John Doe')\n",
    "emp.set_location('NYC')\n",
    "print('{} Live in {} and work in {} department'.format(emp.name,emp.location,emp.dept))"
   ]
  },
  {
   "cell_type": "code",
   "execution_count": 29,
   "id": "2e352e13-6b5a-4eeb-9d46-69e1fdc3e00e",
   "metadata": {},
   "outputs": [
    {
     "name": "stdout",
     "output_type": "stream",
     "text": [
      "['Dr. Brooks', 'Dr. Collins-Thompson', 'Dr. Vydiswaran', 'Dr. Romero']\n"
     ]
    }
   ],
   "source": [
    "#Here is a list of faculty teaching this MOOC. \n",
    "#Can you write a function and apply it using map() \n",
    "#to get a list of all faculty titles and last names (e.g. ['Dr. Brooks', 'Dr. Collins-Thompson', …]) ?\n",
    "\n",
    "#map(function, iterable)\n",
    "\n",
    "people = ['Dr. Christopher Brooks', 'Dr. Kevyn Collins-Thompson', 'Dr. VG Vinod Vydiswaran', 'Dr. Daniel Romero']\n",
    "def split_title_and_name(person):\n",
    "       return person.split()[0] + ' ' + person.split()[-1]\n",
    "    \n",
    "finallist=list(map(split_title_and_name,people)) #map(function, iterable)\n",
    "print(finallist)\n"
   ]
  },
  {
   "cell_type": "code",
   "execution_count": null,
   "id": "9e5bd0ef-6d67-46c3-b883-525e0c6bd713",
   "metadata": {},
   "outputs": [],
   "source": []
  }
 ],
 "metadata": {
  "kernelspec": {
   "display_name": "Python 3 (ipykernel)",
   "language": "python",
   "name": "python3"
  },
  "language_info": {
   "codemirror_mode": {
    "name": "ipython",
    "version": 3
   },
   "file_extension": ".py",
   "mimetype": "text/x-python",
   "name": "python",
   "nbconvert_exporter": "python",
   "pygments_lexer": "ipython3",
   "version": "3.13.3"
  }
 },
 "nbformat": 4,
 "nbformat_minor": 5
}
