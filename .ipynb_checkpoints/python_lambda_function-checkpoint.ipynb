{
 "cells": [
  {
   "cell_type": "code",
   "execution_count": 1,
   "id": "3ba4ea67-673e-4d16-9f7c-47a4927dec52",
   "metadata": {},
   "outputs": [
    {
     "data": {
      "text/plain": [
       "3"
      ]
     },
     "execution_count": 1,
     "metadata": {},
     "output_type": "execute_result"
    }
   ],
   "source": [
    "#Lambda Function Examples\n",
    "mylambda_function= lambda a,b, c:a+b\n",
    "mylambda_function(1,2,3)"
   ]
  },
  {
   "cell_type": "code",
   "execution_count": 6,
   "id": "02748d38-7e37-43f5-8882-738c9621ce49",
   "metadata": {},
   "outputs": [
    {
     "name": "stdout",
     "output_type": "stream",
     "text": [
      "[0, 0, 0, 0, 0, 0, 0, 0, 0, 0, 0, 1, 2, 3, 4, 5, 6, 7, 8, 9, 0, 2, 4, 6, 8, 10, 12, 14, 16, 18, 0, 3, 6, 9, 12, 15, 18, 21, 24, 27, 0, 4, 8, 12, 16, 20, 24, 28, 32, 36, 0, 5, 10, 15, 20, 25, 30, 35, 40, 45, 0, 6, 12, 18, 24, 30, 36, 42, 48, 54, 0, 7, 14, 21, 28, 35, 42, 49, 56, 63, 0, 8, 16, 24, 32, 40, 48, 56, 64, 72, 0, 9, 18, 27, 36, 45, 54, 63, 72, 81]\n"
     ]
    }
   ],
   "source": [
    "#Here, why don’t you try converting a function into a list comprehension.\n",
    "\n",
    "def times_tables():\n",
    "    lst = []\n",
    "    for i in range(10):\n",
    "        for j in range (10):\n",
    "            lst.append(i*j)\n",
    "    return lst\n",
    "#times_tables()\n",
    "result_list = [x*y for x in range(10) for y in range(10)]\n",
    "print(result_list)"
   ]
  },
  {
   "cell_type": "code",
   "execution_count": 17,
   "id": "24aaad29-ba6b-4d52-b34c-e71bd13c2872",
   "metadata": {},
   "outputs": [
    {
     "ename": "SyntaxError",
     "evalue": "cannot assign to expression (2563916797.py, line 11)",
     "output_type": "error",
     "traceback": [
      "  \u001b[36mCell\u001b[39m\u001b[36m \u001b[39m\u001b[32mIn[17]\u001b[39m\u001b[32m, line 11\u001b[39m\n\u001b[31m    \u001b[39m\u001b[31mfor i+1 in lowercase:\u001b[39m\n        ^\n\u001b[31mSyntaxError\u001b[39m\u001b[31m:\u001b[39m cannot assign to expression\n"
     ]
    }
   ],
   "source": [
    "#Here’s a harder question which brings a few things together.\n",
    "#Many organizations have user ids which are constrained in some way.\n",
    "#Imagine you work at an internet service provider and the user ids are all two letters followed by two numbers (e.g. aa49). \n",
    "#Your task at such an organization might be to hold a record on the billing activity for each possible user. \n",
    "#Write an initialization line as a single list comprehension which creates a list of all possible user ids. \n",
    "#Assume the letters are all lower case.\n",
    "lowercase = 'abcdefghijklmnopqrstuvwxyz'\n",
    "digits = '0123456789'\n",
    "def generate_userids():\n",
    "    lst = []\n",
    "    for i in lowercase:\n",
    "        print(i)\n",
    "        for j in digits:\n",
    "            print(j)\n",
    "    return lst\n",
    "\n",
    "generate_userids()"
   ]
  },
  {
   "cell_type": "code",
   "execution_count": null,
   "id": "83cebf07-5e62-4c0c-b22c-db3280e689e2",
   "metadata": {},
   "outputs": [],
   "source": []
  }
 ],
 "metadata": {
  "kernelspec": {
   "display_name": "Python 3 (ipykernel)",
   "language": "python",
   "name": "python3"
  },
  "language_info": {
   "codemirror_mode": {
    "name": "ipython",
    "version": 3
   },
   "file_extension": ".py",
   "mimetype": "text/x-python",
   "name": "python",
   "nbconvert_exporter": "python",
   "pygments_lexer": "ipython3",
   "version": "3.13.3"
  }
 },
 "nbformat": 4,
 "nbformat_minor": 5
}
