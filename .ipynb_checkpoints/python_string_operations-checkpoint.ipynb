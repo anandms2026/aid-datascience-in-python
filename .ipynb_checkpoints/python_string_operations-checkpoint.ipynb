{
 "cells": [
  {
   "cell_type": "code",
   "execution_count": 8,
   "id": "bf2a4b18-f59f-4aed-a1bb-9aa02f2df4b3",
   "metadata": {},
   "outputs": [
    {
     "name": "stdout",
     "output_type": "stream",
     "text": [
      "This is sample String in Python\n",
      "{'fname': 'Anudin', 'lname': 'org', 'location': 'Bangalore', 'dept': 'AID'}\n",
      "Anudin,belongs to AID in Bangalore location\n"
     ]
    }
   ],
   "source": [
    "#Python String Operations\n",
    "strobj = 'This is sample String in Python'\n",
    "print(strobj)\n",
    "emp_record={'fname':'Anudin','lname':'org','location':'Bangalore','dept':'AID'}\n",
    "print(emp_record)\n",
    "format_str='{},belongs to {} in {} location'\n",
    "print(format_str.format(emp_record['fname'],emp_record['dept'],emp_record['location']))"
   ]
  },
  {
   "cell_type": "code",
   "execution_count": null,
   "id": "7eb6e4dd-1815-435e-bc4c-86514bf0195d",
   "metadata": {},
   "outputs": [],
   "source": []
  },
  {
   "cell_type": "code",
   "execution_count": null,
   "id": "f21e7d24-49c1-45b5-91da-bcae0385961b",
   "metadata": {},
   "outputs": [],
   "source": []
  },
  {
   "cell_type": "code",
   "execution_count": null,
   "id": "8f53b0e7-7e1a-4a7d-985f-ed96ef3632d8",
   "metadata": {},
   "outputs": [],
   "source": []
  }
 ],
 "metadata": {
  "kernelspec": {
   "display_name": "Python 3 (ipykernel)",
   "language": "python",
   "name": "python3"
  },
  "language_info": {
   "codemirror_mode": {
    "name": "ipython",
    "version": 3
   },
   "file_extension": ".py",
   "mimetype": "text/x-python",
   "name": "python",
   "nbconvert_exporter": "python",
   "pygments_lexer": "ipython3",
   "version": "3.13.3"
  }
 },
 "nbformat": 4,
 "nbformat_minor": 5
}
