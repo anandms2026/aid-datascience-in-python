{
 "cells": [
  {
   "cell_type": "code",
   "execution_count": 8,
   "id": "fb3eef60-2c98-4111-beda-4f4924b5d188",
   "metadata": {},
   "outputs": [
    {
     "data": {
      "text/plain": [
       "(2025, 9, 9)"
      ]
     },
     "execution_count": 8,
     "metadata": {},
     "output_type": "execute_result"
    }
   ],
   "source": [
    "#Date and Time in python\n",
    "import datetime as dt\n",
    "import time as tm\n",
    "\n",
    "tm.time()\n",
    "datenow=dt.datetime.fromtimestamp(tm.time())\n",
    "datenow\n"
   ]
  },
  {
   "cell_type": "code",
   "execution_count": 10,
   "id": "d552063d-fd1e-4aac-b6f7-0d1394154ebf",
   "metadata": {},
   "outputs": [
    {
     "data": {
      "text/plain": [
       "(2025, 9, 9, 18, 40, 30)"
      ]
     },
     "execution_count": 10,
     "metadata": {},
     "output_type": "execute_result"
    }
   ],
   "source": [
    "datenow.year, datenow.month, datenow.day,datenow.hour, datenow.minute,datenow.second"
   ]
  },
  {
   "cell_type": "code",
   "execution_count": 14,
   "id": "9cd2744f-ea05-4fdb-96b8-4811d296829e",
   "metadata": {},
   "outputs": [
    {
     "data": {
      "text/plain": [
       "datetime.timedelta(days=100)"
      ]
     },
     "execution_count": 14,
     "metadata": {},
     "output_type": "execute_result"
    }
   ],
   "source": [
    "delta=dt.timedelta(days=100)\n",
    "delta"
   ]
  },
  {
   "cell_type": "code",
   "execution_count": 15,
   "id": "7908fcb3-1c7a-4080-8b81-3def2e176093",
   "metadata": {},
   "outputs": [
    {
     "data": {
      "text/plain": [
       "datetime.date(2025, 6, 1)"
      ]
     },
     "execution_count": 15,
     "metadata": {},
     "output_type": "execute_result"
    }
   ],
   "source": [
    "today=dt.date.today()\n",
    "today-delta\n"
   ]
  },
  {
   "cell_type": "code",
   "execution_count": 16,
   "id": "cadf2c30-2d9a-43bb-98fb-dc508b6312df",
   "metadata": {},
   "outputs": [
    {
     "data": {
      "text/plain": [
       "True"
      ]
     },
     "execution_count": 16,
     "metadata": {},
     "output_type": "execute_result"
    }
   ],
   "source": [
    "today > today-delta\n"
   ]
  },
  {
   "cell_type": "code",
   "execution_count": null,
   "id": "024ac67c-c4bc-46d5-bfff-366d94f2d4c1",
   "metadata": {},
   "outputs": [],
   "source": []
  }
 ],
 "metadata": {
  "kernelspec": {
   "display_name": "Python 3 (ipykernel)",
   "language": "python",
   "name": "python3"
  },
  "language_info": {
   "codemirror_mode": {
    "name": "ipython",
    "version": 3
   },
   "file_extension": ".py",
   "mimetype": "text/x-python",
   "name": "python",
   "nbconvert_exporter": "python",
   "pygments_lexer": "ipython3",
   "version": "3.13.3"
  }
 },
 "nbformat": 4,
 "nbformat_minor": 5
}
