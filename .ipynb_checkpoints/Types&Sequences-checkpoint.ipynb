{
 "cells": [
  {
   "cell_type": "code",
   "execution_count": 3,
   "id": "a68aa3d0-f867-4cc7-bdf5-995c16a312cb",
   "metadata": {},
   "outputs": [
    {
     "name": "stdout",
     "output_type": "stream",
     "text": [
      "10\n"
     ]
    }
   ],
   "source": [
    "x = \"10\"\n",
    "print(x)"
   ]
  },
  {
   "cell_type": "code",
   "execution_count": 4,
   "id": "b5a29a0d-5ea6-482c-9bf7-7966dff9ae6b",
   "metadata": {},
   "outputs": [
    {
     "data": {
      "text/plain": [
       "30"
      ]
     },
     "execution_count": 4,
     "metadata": {},
     "output_type": "execute_result"
    }
   ],
   "source": [
    "a=10\n",
    "b=20\n",
    "a+b"
   ]
  },
  {
   "cell_type": "code",
   "execution_count": 8,
   "id": "8a6793a0-9d45-47da-8103-4b1288bd2823",
   "metadata": {},
   "outputs": [
    {
     "data": {
      "text/plain": [
       "5566777"
      ]
     },
     "execution_count": 8,
     "metadata": {},
     "output_type": "execute_result"
    }
   ],
   "source": [
    "def add_numbers(a,b):\n",
    "    return a+b\n",
    "\n",
    "add_numbers(1000000,4566777)\n"
   ]
  },
  {
   "cell_type": "code",
   "execution_count": 10,
   "id": "c597145c-fed5-4e3f-bb08-401e9089ee64",
   "metadata": {},
   "outputs": [
    {
     "data": {
      "text/plain": [
       "str"
      ]
     },
     "execution_count": 10,
     "metadata": {},
     "output_type": "execute_result"
    }
   ],
   "source": [
    "type(\"This is text\")\n",
    "     "
   ]
  },
  {
   "cell_type": "code",
   "execution_count": 11,
   "id": "8d49204f-cd4b-446d-91f0-42239fa80667",
   "metadata": {},
   "outputs": [
    {
     "data": {
      "text/plain": [
       "NoneType"
      ]
     },
     "execution_count": 11,
     "metadata": {},
     "output_type": "execute_result"
    }
   ],
   "source": [
    "type(None)"
   ]
  },
  {
   "cell_type": "code",
   "execution_count": 12,
   "id": "580c23a1-0ba8-4f08-bab6-209e0869050b",
   "metadata": {},
   "outputs": [
    {
     "data": {
      "text/plain": [
       "int"
      ]
     },
     "execution_count": 12,
     "metadata": {},
     "output_type": "execute_result"
    }
   ],
   "source": [
    "type(1)"
   ]
  },
  {
   "cell_type": "code",
   "execution_count": 13,
   "id": "e1d61d39-6d95-47d4-ae13-6fb386594640",
   "metadata": {},
   "outputs": [
    {
     "data": {
      "text/plain": [
       "function"
      ]
     },
     "execution_count": 13,
     "metadata": {},
     "output_type": "execute_result"
    }
   ],
   "source": [
    "type(add_numbers)"
   ]
  },
  {
   "cell_type": "code",
   "execution_count": 14,
   "id": "0810bf1c-a469-43ab-bd73-a013e9c9b598",
   "metadata": {},
   "outputs": [
    {
     "name": "stdout",
     "output_type": "stream",
     "text": [
      "[1, 'a', 2, 'b']\n"
     ]
    }
   ],
   "source": [
    "x=[1,'a',2,'b']\n",
    "print(x)"
   ]
  },
  {
   "cell_type": "code",
   "execution_count": 15,
   "id": "5e0789a8-38c3-48e8-9da1-716cad1a558b",
   "metadata": {},
   "outputs": [
    {
     "data": {
      "text/plain": [
       "list"
      ]
     },
     "execution_count": 15,
     "metadata": {},
     "output_type": "execute_result"
    }
   ],
   "source": [
    "type(x)"
   ]
  },
  {
   "cell_type": "code",
   "execution_count": 16,
   "id": "e9b2229a-616b-4133-8968-cef7ff2fc662",
   "metadata": {},
   "outputs": [
    {
     "data": {
      "text/plain": [
       "tuple"
      ]
     },
     "execution_count": 16,
     "metadata": {},
     "output_type": "execute_result"
    }
   ],
   "source": [
    "t=(1,'a',2,'b')\n",
    "type(t)"
   ]
  },
  {
   "cell_type": "code",
   "execution_count": 2,
   "id": "fbb74123-3d31-47cd-8e0c-675862e6890b",
   "metadata": {},
   "outputs": [
    {
     "name": "stdout",
     "output_type": "stream",
     "text": [
      "Anandbadiger\n"
     ]
    }
   ],
   "source": [
    "firstname='Anand'\n",
    "lastname='badiger'\n",
    "print(firstname+lastname)"
   ]
  },
  {
   "cell_type": "code",
   "execution_count": 3,
   "id": "e09861ce-982b-4249-86b1-1c89556de656",
   "metadata": {},
   "outputs": [
    {
     "name": "stdout",
     "output_type": "stream",
     "text": [
      "True\n"
     ]
    }
   ],
   "source": [
    "print('An' in firstname)"
   ]
  },
  {
   "cell_type": "code",
   "execution_count": 4,
   "id": "4e22fc48-526a-41f2-8b25-f02d466ea708",
   "metadata": {},
   "outputs": [
    {
     "name": "stdout",
     "output_type": "stream",
     "text": [
      "True\n"
     ]
    }
   ],
   "source": [
    "print('an' in firstname)"
   ]
  },
  {
   "cell_type": "code",
   "execution_count": 10,
   "id": "6be51446-c3b8-4cc6-b592-f8f8b9fe8404",
   "metadata": {},
   "outputs": [
    {
     "name": "stdout",
     "output_type": "stream",
     "text": [
      "Anand\n",
      "Badiger\n"
     ]
    }
   ],
   "source": [
    "firstname = 'Anand Badiger'\n",
    "city = 'Ankali'\n",
    "print(firstname.split(' ')[0])\n",
    "print(firstname.split(' ')[1])\n"
   ]
  },
  {
   "cell_type": "code",
   "execution_count": 19,
   "id": "262aca51-3303-4a71-84db-a132510eb3bf",
   "metadata": {},
   "outputs": [
    {
     "name": "stdout",
     "output_type": "stream",
     "text": [
      "{'dept': 'AID', 'fname': 'Anudina', 'lname': 'org'}\n",
      "dept\n",
      "AID\n",
      "fname\n",
      "Anudina\n",
      "lname\n",
      "org\n",
      "AID\n",
      "Anudina\n",
      "org\n",
      "dept\n"
     ]
    },
    {
     "ename": "NameError",
     "evalue": "name 'value' is not defined",
     "output_type": "error",
     "traceback": [
      "\u001b[31m---------------------------------------------------------------------------\u001b[39m",
      "\u001b[31mNameError\u001b[39m                                 Traceback (most recent call last)",
      "\u001b[36mCell\u001b[39m\u001b[36m \u001b[39m\u001b[32mIn[19]\u001b[39m\u001b[32m, line 14\u001b[39m\n\u001b[32m     12\u001b[39m \u001b[38;5;28;01mfor\u001b[39;00m key,values \u001b[38;5;129;01min\u001b[39;00m dict1.items():\n\u001b[32m     13\u001b[39m     \u001b[38;5;28mprint\u001b[39m(key)\n\u001b[32m---> \u001b[39m\u001b[32m14\u001b[39m     \u001b[38;5;28mprint\u001b[39m(\u001b[43mvalue\u001b[49m)\n",
      "\u001b[31mNameError\u001b[39m: name 'value' is not defined"
     ]
    }
   ],
   "source": [
    "#Dictionary Example\n",
    "dict1={'dept':'AID','fname':'Anudina','lname':'org'}\n",
    "print(dict1)\n",
    "#Iterate Dictionary\n",
    "for i in dict1:\n",
    "    print(i)\n",
    "    print(dict1[i])\n",
    "\n",
    "for values in dict1.values():\n",
    "    print(values)\n"
   ]
  },
  {
   "cell_type": "code",
   "execution_count": 13,
   "id": "da5d48c0-7342-4da6-8383-a5eb8d2fac52",
   "metadata": {},
   "outputs": [
    {
     "name": "stdout",
     "output_type": "stream",
     "text": [
      "AID\n"
     ]
    }
   ],
   "source": [
    "print(dict1['dept'])"
   ]
  },
  {
   "cell_type": "code",
   "execution_count": 21,
   "id": "dd0fad9b-32a4-423c-b55f-d4d31c4dcc70",
   "metadata": {},
   "outputs": [
    {
     "name": "stdout",
     "output_type": "stream",
     "text": [
      "dept\n",
      "AID\n",
      "fname\n",
      "Anudina\n",
      "lname\n",
      "org\n"
     ]
    }
   ],
   "source": [
    "#Iterate both key value same time\n",
    "for key,value in dict1.items():\n",
    "    print(key)\n",
    "    print(value)"
   ]
  },
  {
   "cell_type": "code",
   "execution_count": 23,
   "id": "fabf2b7f-5d92-4bfb-af34-286d68a5bd34",
   "metadata": {},
   "outputs": [
    {
     "name": "stdout",
     "output_type": "stream",
     "text": [
      "(1, 'Anand', 2, 'Badiger')\n"
     ]
    },
    {
     "data": {
      "text/plain": [
       "tuple"
      ]
     },
     "execution_count": 23,
     "metadata": {},
     "output_type": "execute_result"
    }
   ],
   "source": [
    "#TUPLES Samples\n",
    "x=(1,'Anand',2,'Badiger')\n",
    "print(x)\n",
    "type(x)"
   ]
  },
  {
   "cell_type": "code",
   "execution_count": 38,
   "id": "92c47657-61c1-4a49-8d8e-5bbf8029a1e3",
   "metadata": {},
   "outputs": [
    {
     "name": "stdout",
     "output_type": "stream",
     "text": [
      "[1, 'a', 3, 4, 'Nyc', 'Washington']\n",
      "iterating the List ....\n",
      "1\n",
      "a\n",
      "3\n",
      "4\n",
      "Nyc\n",
      "Washington\n",
      "index operation on List...\n",
      "G\n",
      "Ge\n",
      "Get the\n",
      "t\n",
      "ti\n",
      " the mobile communication\n"
     ]
    }
   ],
   "source": [
    "#Lists in Python\n",
    "x=[1,'a',3,4,'Nyc']\n",
    "x.append('Washington')\n",
    "print(x)\n",
    "#iterate the List \n",
    "print('iterating the List ....')\n",
    "for i in x:\n",
    "    print(i)\n",
    "print('index operation on List...')\n",
    "str = 'Get the mobile communication'\n",
    "print(str[0])\n",
    "print(str[0:2])\n",
    "print(str[0:7])\n",
    "print(str[-4])\n",
    "print(str[-4:-2])\n",
    "print(str[3:])"
   ]
  },
  {
   "cell_type": "code",
   "execution_count": null,
   "id": "138f6662-93d1-4181-9beb-40af61f11854",
   "metadata": {},
   "outputs": [],
   "source": []
  },
  {
   "cell_type": "code",
   "execution_count": null,
   "id": "518151f1-6344-48e0-8fee-6bef41dac58c",
   "metadata": {},
   "outputs": [],
   "source": []
  }
 ],
 "metadata": {
  "kernelspec": {
   "display_name": "Python 3 (ipykernel)",
   "language": "python",
   "name": "python3"
  },
  "language_info": {
   "codemirror_mode": {
    "name": "ipython",
    "version": 3
   },
   "file_extension": ".py",
   "mimetype": "text/x-python",
   "name": "python",
   "nbconvert_exporter": "python",
   "pygments_lexer": "ipython3",
   "version": "3.13.3"
  }
 },
 "nbformat": 4,
 "nbformat_minor": 5
}
