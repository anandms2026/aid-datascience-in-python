{
 "cells": [
  {
   "cell_type": "code",
   "execution_count": 1,
   "id": "3ba4ea67-673e-4d16-9f7c-47a4927dec52",
   "metadata": {},
   "outputs": [
    {
     "data": {
      "text/plain": [
       "3"
      ]
     },
     "execution_count": 1,
     "metadata": {},
     "output_type": "execute_result"
    }
   ],
   "source": [
    "#Lambda Function Examples\n",
    "mylambda_function= lambda a,b, c:a+b\n",
    "mylambda_function(1,2,3)"
   ]
  },
  {
   "cell_type": "code",
   "execution_count": 6,
   "id": "02748d38-7e37-43f5-8882-738c9621ce49",
   "metadata": {},
   "outputs": [
    {
     "name": "stdout",
     "output_type": "stream",
     "text": [
      "[0, 0, 0, 0, 0, 0, 0, 0, 0, 0, 0, 1, 2, 3, 4, 5, 6, 7, 8, 9, 0, 2, 4, 6, 8, 10, 12, 14, 16, 18, 0, 3, 6, 9, 12, 15, 18, 21, 24, 27, 0, 4, 8, 12, 16, 20, 24, 28, 32, 36, 0, 5, 10, 15, 20, 25, 30, 35, 40, 45, 0, 6, 12, 18, 24, 30, 36, 42, 48, 54, 0, 7, 14, 21, 28, 35, 42, 49, 56, 63, 0, 8, 16, 24, 32, 40, 48, 56, 64, 72, 0, 9, 18, 27, 36, 45, 54, 63, 72, 81]\n"
     ]
    }
   ],
   "source": [
    "#Here, why don’t you try converting a function into a list comprehension.\n",
    "\n",
    "def times_tables():\n",
    "    lst = []\n",
    "    for i in range(10):\n",
    "        for j in range (10):\n",
    "            lst.append(i*j)\n",
    "    return lst\n",
    "#times_tables()\n",
    "result_list = [x*y for x in range(10) for y in range(10)]\n",
    "print(result_list)"
   ]
  },
  {
   "cell_type": "code",
   "execution_count": 35,
   "id": "24aaad29-ba6b-4d52-b34c-e71bd13c2872",
   "metadata": {},
   "outputs": [
    {
     "name": "stdout",
     "output_type": "stream",
     "text": [
      "['ab01', 'ab23', 'ab45', 'ab67', 'ab89', 'cd01', 'cd23', 'cd45', 'cd67', 'cd89', 'ef01', 'ef23', 'ef45', 'ef67', 'ef89', 'gh01', 'gh23', 'gh45', 'gh67', 'gh89', 'ij01', 'ij23', 'ij45', 'ij67', 'ij89', 'kl01', 'kl23', 'kl45', 'kl67', 'kl89', 'mn01', 'mn23', 'mn45', 'mn67', 'mn89', 'op01', 'op23', 'op45', 'op67', 'op89', 'qr01', 'qr23', 'qr45', 'qr67', 'qr89', 'st01', 'st23', 'st45', 'st67', 'st89', 'uv01', 'uv23', 'uv45', 'uv67', 'uv89', 'wx01', 'wx23', 'wx45', 'wx67', 'wx89', 'yz01', 'yz23', 'yz45', 'yz67', 'yz89']\n"
     ]
    }
   ],
   "source": [
    "#Here’s a harder question which brings a few things together.\n",
    "#Many organizations have user ids which are constrained in some way.\n",
    "#Imagine you work at an internet service provider and the user ids are all two letters followed by two numbers (e.g. aa49). \n",
    "#Your task at such an organization might be to hold a record on the billing activity for each possible user. \n",
    "#Write an initialization line as a single list comprehension which creates a list of all possible user ids. \n",
    "#Assume the letters are all lower case.\n",
    "lowercase = 'abcdefghijklmnopqrstuvwxyz'\n",
    "dig = '0123456789'\n",
    "\n",
    "def generate_userids():\n",
    "    lst = []\n",
    "    letter = [ str(lowercase[i:i+2]) for i in range(0, len(lowercase), 2) ]\n",
    "    digits = [ str(dig[i:i+2]) for i in range(0, len(dig), 2) ]\n",
    "    #print (letter) \n",
    "    #print(digits)\n",
    "    for let in letter:\n",
    "        for digital in digits:\n",
    "            #print(digital)\n",
    "            lst.append(let+digital)\n",
    "    return lst\n",
    "letter = [ str(lowercase[i:i+2]) for i in range(0, len(lowercase), 2) ]\n",
    "digits = [ str(dig[i:i+2]) for i in range(0, len(dig), 2) ]\n",
    "ans= [l+d for l in letter for d in digits]\n",
    "print(ans)\n"
   ]
  },
  {
   "cell_type": "code",
   "execution_count": null,
   "id": "83cebf07-5e62-4c0c-b22c-db3280e689e2",
   "metadata": {},
   "outputs": [],
   "source": []
  },
  {
   "cell_type": "code",
   "execution_count": null,
   "id": "03ee119c-5b93-4b1a-b599-2ae68c438233",
   "metadata": {},
   "outputs": [],
   "source": []
  }
 ],
 "metadata": {
  "kernelspec": {
   "display_name": "Python 3 (ipykernel)",
   "language": "python",
   "name": "python3"
  },
  "language_info": {
   "codemirror_mode": {
    "name": "ipython",
    "version": 3
   },
   "file_extension": ".py",
   "mimetype": "text/x-python",
   "name": "python",
   "nbconvert_exporter": "python",
   "pygments_lexer": "ipython3",
   "version": "3.13.3"
  }
 },
 "nbformat": 4,
 "nbformat_minor": 5
}
